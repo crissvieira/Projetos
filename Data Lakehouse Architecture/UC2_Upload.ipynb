{
 "cells": [
  {
   "cell_type": "code",
   "execution_count": 1,
   "id": "4ddfbd2f",
   "metadata": {},
   "outputs": [
    {
     "data": {
      "text/plain": [
       "'/project/uc2/bronze/Datasets/Accident_Information.csv'"
      ]
     },
     "execution_count": 1,
     "metadata": {},
     "output_type": "execute_result"
    }
   ],
   "source": [
    "# Copy File to bronze layer\n",
    "from os import PathLike\n",
    "from hdfs import InsecureClient\n",
    "client = InsecureClient(\"http://hdfs-nn:9870\", user=\"anonymous\")\n",
    "\n",
    "from_path = \"./Vehicle_Information.csv\"\n",
    "to_path = \"/project/uc2/bronze/Datasets/Vehicle_Information.csv\"\n",
    "\n",
    "client.delete(to_path)\n",
    "\n",
    "client.upload(to_path, from_path)\n",
    "\n",
    "# More HDFS functions here if needed (e.g., write, list files, delete files, rename, delete, etc...)\n",
    "# https://hdfscli.readthedocs.io/en/latest/quickstart.html"
   ]
  }
 ],
 "metadata": {
  "kernelspec": {
   "display_name": "Python 3",
   "language": "python",
   "name": "python3"
  },
  "language_info": {
   "codemirror_mode": {
    "name": "ipython",
    "version": 3
   },
   "file_extension": ".py",
   "mimetype": "text/x-python",
   "name": "python",
   "nbconvert_exporter": "python",
   "pygments_lexer": "ipython3",
   "version": "3.9.4"
  }
 },
 "nbformat": 4,
 "nbformat_minor": 5
}
